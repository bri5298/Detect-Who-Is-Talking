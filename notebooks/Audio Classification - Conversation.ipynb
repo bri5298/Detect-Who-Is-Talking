{
 "cells": [
  {
   "cell_type": "code",
   "execution_count": null,
   "id": "85c95821",
   "metadata": {},
   "outputs": [],
   "source": [
    "import sys\n",
    "import os\n",
    "if os.getcwd().endswith('notebooks'):\n",
    "    os.chdir(\"..\")\n",
    "print(os.getcwd())"
   ]
  },
  {
   "cell_type": "markdown",
   "id": "bc06eeb6",
   "metadata": {},
   "source": [
    "## Imports"
   ]
  },
  {
   "cell_type": "code",
   "execution_count": null,
   "id": "e73d5ae2",
   "metadata": {},
   "outputs": [],
   "source": [
    "from collections import defaultdict\n",
    "import math\n",
    "import numpy as np\n",
    "import pandas as pd\n",
    "from importlib import reload\n",
    "import matplotlib.pyplot as plt\n",
    "import IPython.display as ipd\n",
    "from IPython.display import clear_output\n",
    "\n",
    "from pydub import AudioSegment\n",
    "import librosa\n",
    "import librosa.display\n",
    "\n",
    "import detect_who_is_talking.data_preparation as dp\n",
    "import detect_who_is_talking.model_creation as mc"
   ]
  },
  {
   "cell_type": "markdown",
   "id": "c57c50d6",
   "metadata": {},
   "source": [
    "## Functions"
   ]
  },
  {
   "cell_type": "markdown",
   "id": "03d7b639",
   "metadata": {},
   "source": [
    "### General"
   ]
  },
  {
   "cell_type": "code",
   "execution_count": 3,
   "id": "09779001",
   "metadata": {},
   "outputs": [],
   "source": [
    "def split_and_get_audio_features(long_audio_path, temp_short_audio_folder, sec_per_split):\n",
    "    features = []\n",
    "    filename = os.path.basename(long_audio_path)\n",
    "    audio = AudioSegment.from_wav(long_audio_path)\n",
    "    total_seconds = math.ceil(audio.duration_seconds)\n",
    "    print(total_seconds)\n",
    "    for i in range(0, total_seconds, sec_per_split):\n",
    "        split_filename = str(i) + \"_\" + filename\n",
    "        from_sec = i\n",
    "        to_sec = i + sec_per_split\n",
    "        t1 = from_sec * 1000\n",
    "        t2 = to_sec * 1000\n",
    "        split_audio = audio[t1:t2]\n",
    "        new_fpath = os.path.join(temp_short_audio_folder, split_filename)\n",
    "        split_audio.export(new_fpath, format=\"wav\")\n",
    "        data = dp.features_extractor(new_fpath)\n",
    "        features.append(data)\n",
    "        os.remove(new_fpath)\n",
    "        print(f\"{from_sec}/{total_seconds} Done\")\n",
    "        if i % 100 == 0:\n",
    "            clear_output()\n",
    "        if i == total_seconds - sec_per_split:\n",
    "            print(\"All split successfully\")\n",
    "    return features, total_seconds"
   ]
  },
  {
   "cell_type": "markdown",
   "id": "bf8eef88",
   "metadata": {},
   "source": [
    "### For data"
   ]
  },
  {
   "cell_type": "code",
   "execution_count": 4,
   "id": "f0d5e615",
   "metadata": {},
   "outputs": [],
   "source": [
    "def create_training_df_from_long_files(\n",
    "    long_files_folder, \n",
    "    temp_short_audio_folder, \n",
    "    sec_per_split,\n",
    "    save_df_path=None\n",
    "):\n",
    "    \"\"\"\n",
    "    Create a df with the extracted features for each split as well as its corresponding class.\n",
    "    The class is determined by the name of the file. \n",
    "    :param long_files_folder: The folder that contains the long files we will split. The ones with \n",
    "        the class in the filname. \n",
    "    :param temp_short_audio_folder: The folder where we will keep the temporary file splits. The files are \n",
    "        deleted after they are used so it does not really matter. \n",
    "    :param sec_per_split: How many seconds do we want to give each split? I suggest 2 or 3 because in a \n",
    "        conversation, the person talking can change quickly so you dont want it to be too long but\n",
    "        at the same time you don't want it to be too short as to not get enough features. \n",
    "    :param save_df_path: If you want to save the df as a .csv file you can put the filepath here but \n",
    "        if not, the df will not be saved\n",
    "    :return: a df with the extracted audio features per split and the corresponding class\n",
    "    \n",
    "    NOTE: If there are multiple files for the same 'class_' make sure to differentiate them with a '_'\n",
    "        ex: 'John Smith_1.wav', 'John Smith_2.wav' etc.\n",
    "    \"\"\"\n",
    "    extracted_features = []\n",
    "    dict_for_df = defaultdict(lambda: [])\n",
    "    if not os.path.exists(temp_short_audio_folder):\n",
    "            os.makedirs(temp_short_audio_folder)\n",
    "    for filename in os.listdir(long_files_folder):\n",
    "        if not filename.endswith('.wav'):\n",
    "            continue\n",
    "        class_ = filename.split('_')[0].replace('.wav', '')\n",
    "        print(class_)\n",
    "        long_audio_path = os.path.join(long_files_folder, filename)\n",
    "        features, total_sec = split_and_get_audio_features(long_audio_path, temp_short_audio_folder, sec_per_split)\n",
    "        dict_for_df[class_].append(features)\n",
    "    os.rmdir(temp_short_audio_folder)\n",
    "    df_data = pd.DataFrame(dict_for_df.items(), columns=['class', 'feature'])\n",
    "    df_data = df_data.explode('feature').reset_index(drop=True)\n",
    "    df_data = df_data.explode('feature').reset_index(drop=True) # explode twice because of the array of lists\n",
    "    df_data = df_data[['feature', 'class']]\n",
    "    if save_df_path:\n",
    "        df_data.to_csv(save_df_path, index=False)\n",
    "    return df_data"
   ]
  },
  {
   "cell_type": "markdown",
   "id": "10665d76",
   "metadata": {},
   "source": [
    "### For predictions"
   ]
  },
  {
   "cell_type": "code",
   "execution_count": 5,
   "id": "364c4a01",
   "metadata": {},
   "outputs": [],
   "source": [
    "def prediction_per_n_second(\n",
    "    long_audio_path, \n",
    "    temp_short_audio_folder, \n",
    "    sec_per_split\n",
    "):\n",
    "    \"\"\"\n",
    "    This function takes the audio of a conversation between people, splits it and predicts \n",
    "        for each split who is talking. Then places the corresponding second of the split and \n",
    "        the class predicted into a dataframe.\n",
    "    :param long_audio_path: The path to the audio of the conversation we want to predict.\n",
    "    :param short_audios_folder: The folder where we will store the temporary files when we split them. \n",
    "        This folder does not really matter since we will delete the split file after getting the features\n",
    "    :param sec_per_split: How many seconds do we want to give each split? I suggest 2 or 3 because in a \n",
    "        conversation, the person talking can change quickly so you dont want it to be too long but\n",
    "        at the same time you don't want it to be too short as to not get enough features.\n",
    "    :return: A df with columns 'from_sec' and 'class' predicted\n",
    "    \"\"\"\n",
    "\n",
    "    filename = os.path.basename(long_audio_path)\n",
    "    if not os.path.exists(temp_short_audio_folder):\n",
    "        os.makedirs(temp_short_audio_folder)\n",
    "    features, total_sec = split_and_get_audio_features(long_audio_path, temp_short_audio_folder, sec_per_split)\n",
    "    seconds = list(range(0, total_sec, sec_per_split))\n",
    "    predict_x = model.predict(np.array(features)) \n",
    "    classes_x = np.argmax(predict_x, axis=1)\n",
    "    predictions = labelencoder.inverse_transform(classes_x)\n",
    "    os.rmdir(temp_short_audio_folder)\n",
    "    df = pd.DataFrame(np.column_stack([seconds, predictions]), columns=['from_sec', 'class'])\n",
    "    return df"
   ]
  },
  {
   "cell_type": "markdown",
   "id": "2e351655",
   "metadata": {},
   "source": [
    "# Data"
   ]
  },
  {
   "cell_type": "markdown",
   "id": "105451e2",
   "metadata": {},
   "source": [
    "## Depending what you want you can chose 1 or 2 below"
   ]
  },
  {
   "cell_type": "markdown",
   "id": "2e008273",
   "metadata": {},
   "source": [
    "### 1-Create df for training if it is not already done"
   ]
  },
  {
   "cell_type": "code",
   "execution_count": 6,
   "id": "d79b3894",
   "metadata": {
    "scrolled": true
   },
   "outputs": [],
   "source": [
    "reload(dp)\n",
    "long_files_folder = os.path.join('data', 'training_podcasts')\n",
    "temp_short_audio_folder = os.path.join('data', 'BillAndrew')\n",
    "sec_split = 2\n",
    "save_df_path = os.path.join('data', 'bill_andrew_train.csv') # If you do not want it saved, put None\n",
    "#+++++++++++++++++++++++++++++++++++\n",
    "df = create_training_df_from_long_files(\n",
    "    long_files_folder,\n",
    "    temp_short_audio_folder,\n",
    "    sec_split,\n",
    "    save_df_path\n",
    ")"
   ]
  },
  {
   "cell_type": "markdown",
   "id": "ca92fab3",
   "metadata": {},
   "source": [
    "### 2-Import the data training data from csv"
   ]
  },
  {
   "cell_type": "code",
   "execution_count": 6,
   "id": "88d82e00",
   "metadata": {
    "scrolled": false
   },
   "outputs": [
    {
     "data": {
      "text/html": [
       "<div>\n",
       "<style scoped>\n",
       "    .dataframe tbody tr th:only-of-type {\n",
       "        vertical-align: middle;\n",
       "    }\n",
       "\n",
       "    .dataframe tbody tr th {\n",
       "        vertical-align: top;\n",
       "    }\n",
       "\n",
       "    .dataframe thead th {\n",
       "        text-align: right;\n",
       "    }\n",
       "</style>\n",
       "<table border=\"1\" class=\"dataframe\">\n",
       "  <thead>\n",
       "    <tr style=\"text-align: right;\">\n",
       "      <th></th>\n",
       "      <th>feature</th>\n",
       "      <th>class</th>\n",
       "    </tr>\n",
       "  </thead>\n",
       "  <tbody>\n",
       "    <tr>\n",
       "      <th>0</th>\n",
       "      <td>[-267.50403, 120.61325, -7.410134, 34.12321, 9...</td>\n",
       "      <td>Andrew Santino</td>\n",
       "    </tr>\n",
       "    <tr>\n",
       "      <th>1</th>\n",
       "      <td>[-452.878143, 102.423706, -3.94387078, 27.5198...</td>\n",
       "      <td>Bill Burr</td>\n",
       "    </tr>\n",
       "    <tr>\n",
       "      <th>2</th>\n",
       "      <td>[-274.415527, 104.838676, -10.5751324, 23.6092...</td>\n",
       "      <td>Andrew Santino</td>\n",
       "    </tr>\n",
       "    <tr>\n",
       "      <th>3</th>\n",
       "      <td>[-402.152802, 110.370094, -5.60972214, 33.4003...</td>\n",
       "      <td>Bill Burr</td>\n",
       "    </tr>\n",
       "    <tr>\n",
       "      <th>4</th>\n",
       "      <td>[-300.76395, 93.9832, -54.022655, 24.942396, -...</td>\n",
       "      <td>Bill Burr</td>\n",
       "    </tr>\n",
       "    <tr>\n",
       "      <th>...</th>\n",
       "      <td>...</td>\n",
       "      <td>...</td>\n",
       "    </tr>\n",
       "    <tr>\n",
       "      <th>3772</th>\n",
       "      <td>[-328.74475, 67.530731, -27.32774, 43.89048, -...</td>\n",
       "      <td>Bill Burr</td>\n",
       "    </tr>\n",
       "    <tr>\n",
       "      <th>3773</th>\n",
       "      <td>[-223.19661, 123.016914, -5.380184, 19.082811,...</td>\n",
       "      <td>Andrew Santino</td>\n",
       "    </tr>\n",
       "    <tr>\n",
       "      <th>3774</th>\n",
       "      <td>[-428.26306, 66.002899, 11.153426, 23.832281, ...</td>\n",
       "      <td>Bill Burr</td>\n",
       "    </tr>\n",
       "    <tr>\n",
       "      <th>3775</th>\n",
       "      <td>[-383.57785, 115.741776, -15.2388105, 39.14256...</td>\n",
       "      <td>Bill Burr</td>\n",
       "    </tr>\n",
       "    <tr>\n",
       "      <th>3776</th>\n",
       "      <td>[-590.85291, 64.332649, 19.998402, 33.633656, ...</td>\n",
       "      <td>Bill Burr</td>\n",
       "    </tr>\n",
       "  </tbody>\n",
       "</table>\n",
       "<p>3777 rows × 2 columns</p>\n",
       "</div>"
      ],
      "text/plain": [
       "                                                feature           class\n",
       "0     [-267.50403, 120.61325, -7.410134, 34.12321, 9...  Andrew Santino\n",
       "1     [-452.878143, 102.423706, -3.94387078, 27.5198...       Bill Burr\n",
       "2     [-274.415527, 104.838676, -10.5751324, 23.6092...  Andrew Santino\n",
       "3     [-402.152802, 110.370094, -5.60972214, 33.4003...       Bill Burr\n",
       "4     [-300.76395, 93.9832, -54.022655, 24.942396, -...       Bill Burr\n",
       "...                                                 ...             ...\n",
       "3772  [-328.74475, 67.530731, -27.32774, 43.89048, -...       Bill Burr\n",
       "3773  [-223.19661, 123.016914, -5.380184, 19.082811,...  Andrew Santino\n",
       "3774  [-428.26306, 66.002899, 11.153426, 23.832281, ...       Bill Burr\n",
       "3775  [-383.57785, 115.741776, -15.2388105, 39.14256...       Bill Burr\n",
       "3776  [-590.85291, 64.332649, 19.998402, 33.633656, ...       Bill Burr\n",
       "\n",
       "[3777 rows x 2 columns]"
      ]
     },
     "execution_count": 6,
     "metadata": {},
     "output_type": "execute_result"
    }
   ],
   "source": [
    "reload(dp)\n",
    "csv_path = os.path.join('data', 'bill_andrew_train.csv')\n",
    "df = pd.read_csv(csv_path).sample(frac=1).reset_index(drop=True)\n",
    "df['feature'] = df['feature'].map(lambda x: dp.prepare_df_for_model(str(x)))\n",
    "df"
   ]
  },
  {
   "cell_type": "code",
   "execution_count": 7,
   "id": "d299a25e",
   "metadata": {},
   "outputs": [
    {
     "data": {
      "text/plain": [
       "Bill Burr         2114\n",
       "Andrew Santino    1663\n",
       "Name: class, dtype: int64"
      ]
     },
     "execution_count": 7,
     "metadata": {},
     "output_type": "execute_result"
    }
   ],
   "source": [
    "df['class'].value_counts()"
   ]
  },
  {
   "cell_type": "markdown",
   "id": "4eae55ff",
   "metadata": {},
   "source": [
    "## Balance out the Classes"
   ]
  },
  {
   "cell_type": "code",
   "execution_count": 9,
   "id": "82709b43",
   "metadata": {},
   "outputs": [
    {
     "name": "stdout",
     "output_type": "stream",
     "text": [
      "(2977, 2)\n"
     ]
    },
    {
     "data": {
      "text/plain": [
       "Andrew Santino    1663\n",
       "Bill Burr         1314\n",
       "Name: class, dtype: int64"
      ]
     },
     "execution_count": 9,
     "metadata": {},
     "output_type": "execute_result"
    }
   ],
   "source": [
    "# Say we want to remove 400 rows of 'Bill Burr' class we can do this\n",
    "class_to_drop = 'Bill Burr'\n",
    "n_rows_to_drop = 400\n",
    "#+++++++++++++++++++++++++++++\n",
    "indexes_to_drop = list(df[df['class']==class_to_drop].sample(n=n_rows_to_drop).index)\n",
    "df = df.drop(index=indexes_to_drop).reset_index(drop=True)\n",
    "print(df.shape)\n",
    "df['class'].value_counts()"
   ]
  },
  {
   "cell_type": "markdown",
   "id": "72b7b5ae",
   "metadata": {},
   "source": [
    "## Split into training and test sets + get labelencoder"
   ]
  },
  {
   "cell_type": "code",
   "execution_count": 11,
   "id": "277c8d31",
   "metadata": {},
   "outputs": [],
   "source": [
    "reload(mc)\n",
    "X_train, X_test, y_train, y_test, labelencoder = mc.encode_and_train_test_split(df, save_encoder=False)"
   ]
  },
  {
   "cell_type": "markdown",
   "id": "050e91a7",
   "metadata": {},
   "source": [
    "# Model"
   ]
  },
  {
   "cell_type": "markdown",
   "id": "404f2bb0",
   "metadata": {},
   "source": [
    "## Initiate the Model"
   ]
  },
  {
   "cell_type": "code",
   "execution_count": null,
   "id": "0259bb46",
   "metadata": {},
   "outputs": [],
   "source": [
    "reload(mc)\n",
    "model = mc.create_model(y_train)"
   ]
  },
  {
   "cell_type": "markdown",
   "id": "3af42e39",
   "metadata": {},
   "source": [
    "## Train the model"
   ]
  },
  {
   "cell_type": "code",
   "execution_count": 13,
   "id": "2ed273af",
   "metadata": {
    "scrolled": true
   },
   "outputs": [
    {
     "name": "stdout",
     "output_type": "stream",
     "text": [
      "Epoch 1/100\n",
      "75/75 [==============================] - 2s 8ms/step - loss: 12.2261 - accuracy: 0.5212 - val_loss: 0.6440 - val_accuracy: 0.6611\n",
      "Epoch 2/100\n",
      "75/75 [==============================] - 0s 5ms/step - loss: 3.7604 - accuracy: 0.5304 - val_loss: 0.6848 - val_accuracy: 0.5487\n",
      "Epoch 3/100\n",
      "75/75 [==============================] - 0s 5ms/step - loss: 1.7615 - accuracy: 0.5338 - val_loss: 0.6766 - val_accuracy: 0.6477\n",
      "Epoch 4/100\n",
      "75/75 [==============================] - 0s 5ms/step - loss: 1.0880 - accuracy: 0.5607 - val_loss: 0.6810 - val_accuracy: 0.5487\n",
      "Epoch 5/100\n",
      "75/75 [==============================] - 0s 5ms/step - loss: 0.8462 - accuracy: 0.6027 - val_loss: 0.6772 - val_accuracy: 0.5503\n",
      "Epoch 6/100\n",
      "75/75 [==============================] - 0s 5ms/step - loss: 0.7907 - accuracy: 0.6077 - val_loss: 0.6696 - val_accuracy: 0.5487\n",
      "Epoch 7/100\n",
      "75/75 [==============================] - 0s 5ms/step - loss: 0.7037 - accuracy: 0.6338 - val_loss: 0.6259 - val_accuracy: 0.5721\n",
      "Epoch 8/100\n",
      "75/75 [==============================] - 0s 5ms/step - loss: 0.6440 - accuracy: 0.6711 - val_loss: 0.5812 - val_accuracy: 0.5604\n",
      "Epoch 9/100\n",
      "75/75 [==============================] - 0s 5ms/step - loss: 0.6079 - accuracy: 0.6930 - val_loss: 0.5095 - val_accuracy: 0.7668\n",
      "Epoch 10/100\n",
      "75/75 [==============================] - 0s 5ms/step - loss: 0.5783 - accuracy: 0.7245 - val_loss: 0.4459 - val_accuracy: 0.8826\n",
      "Epoch 11/100\n",
      "75/75 [==============================] - 0s 5ms/step - loss: 0.4885 - accuracy: 0.7661 - val_loss: 0.3871 - val_accuracy: 0.8926\n",
      "Epoch 12/100\n",
      "75/75 [==============================] - 0s 5ms/step - loss: 0.4462 - accuracy: 0.7917 - val_loss: 0.3098 - val_accuracy: 0.9430\n",
      "Epoch 13/100\n",
      "75/75 [==============================] - 0s 4ms/step - loss: 0.4053 - accuracy: 0.8265 - val_loss: 0.2273 - val_accuracy: 0.9564\n",
      "Epoch 14/100\n",
      "75/75 [==============================] - 0s 5ms/step - loss: 0.3382 - accuracy: 0.8736 - val_loss: 0.1968 - val_accuracy: 0.9664\n",
      "Epoch 15/100\n",
      "75/75 [==============================] - 0s 4ms/step - loss: 0.2870 - accuracy: 0.8870 - val_loss: 0.1503 - val_accuracy: 0.9664\n",
      "Epoch 16/100\n",
      "75/75 [==============================] - 0s 5ms/step - loss: 0.2474 - accuracy: 0.9026 - val_loss: 0.1231 - val_accuracy: 0.9732\n",
      "Epoch 17/100\n",
      "75/75 [==============================] - 0s 4ms/step - loss: 0.2318 - accuracy: 0.9131 - val_loss: 0.1043 - val_accuracy: 0.9681\n",
      "Epoch 18/100\n",
      "75/75 [==============================] - 0s 5ms/step - loss: 0.1800 - accuracy: 0.9345 - val_loss: 0.1021 - val_accuracy: 0.9765\n",
      "Epoch 19/100\n",
      "75/75 [==============================] - 0s 4ms/step - loss: 0.1599 - accuracy: 0.9450 - val_loss: 0.0918 - val_accuracy: 0.9715\n",
      "Epoch 20/100\n",
      "75/75 [==============================] - 0s 4ms/step - loss: 0.1580 - accuracy: 0.9446 - val_loss: 0.0863 - val_accuracy: 0.9715\n",
      "Epoch 21/100\n",
      "75/75 [==============================] - 0s 4ms/step - loss: 0.1338 - accuracy: 0.9555 - val_loss: 0.0902 - val_accuracy: 0.9715\n",
      "Epoch 22/100\n",
      "75/75 [==============================] - 0s 4ms/step - loss: 0.1400 - accuracy: 0.9572 - val_loss: 0.0831 - val_accuracy: 0.9715\n",
      "Epoch 23/100\n",
      "75/75 [==============================] - 0s 4ms/step - loss: 0.1370 - accuracy: 0.9580 - val_loss: 0.0843 - val_accuracy: 0.9748\n",
      "Epoch 24/100\n",
      "75/75 [==============================] - 0s 4ms/step - loss: 0.1121 - accuracy: 0.9656 - val_loss: 0.0725 - val_accuracy: 0.9732\n",
      "Epoch 25/100\n",
      "75/75 [==============================] - 0s 5ms/step - loss: 0.1051 - accuracy: 0.9672 - val_loss: 0.0768 - val_accuracy: 0.9715\n",
      "Epoch 26/100\n",
      "75/75 [==============================] - 0s 4ms/step - loss: 0.0934 - accuracy: 0.9693 - val_loss: 0.0677 - val_accuracy: 0.9748\n",
      "Epoch 27/100\n",
      "75/75 [==============================] - 0s 4ms/step - loss: 0.0963 - accuracy: 0.9698 - val_loss: 0.0641 - val_accuracy: 0.9748\n",
      "Epoch 28/100\n",
      "75/75 [==============================] - 0s 5ms/step - loss: 0.1025 - accuracy: 0.9710 - val_loss: 0.0701 - val_accuracy: 0.9765\n",
      "Epoch 29/100\n",
      "75/75 [==============================] - 0s 4ms/step - loss: 0.1031 - accuracy: 0.9693 - val_loss: 0.0742 - val_accuracy: 0.9782\n",
      "Epoch 30/100\n",
      "75/75 [==============================] - 0s 4ms/step - loss: 0.0890 - accuracy: 0.9744 - val_loss: 0.0612 - val_accuracy: 0.9748\n",
      "Epoch 31/100\n",
      "75/75 [==============================] - 0s 5ms/step - loss: 0.0689 - accuracy: 0.9819 - val_loss: 0.0569 - val_accuracy: 0.9799\n",
      "Epoch 32/100\n",
      "75/75 [==============================] - 0s 4ms/step - loss: 0.0862 - accuracy: 0.9731 - val_loss: 0.0550 - val_accuracy: 0.9815\n",
      "Epoch 33/100\n",
      "75/75 [==============================] - 0s 4ms/step - loss: 0.0833 - accuracy: 0.9777 - val_loss: 0.0572 - val_accuracy: 0.9815\n",
      "Epoch 34/100\n",
      "75/75 [==============================] - 0s 4ms/step - loss: 0.0846 - accuracy: 0.9769 - val_loss: 0.0548 - val_accuracy: 0.9799\n",
      "Epoch 35/100\n",
      "75/75 [==============================] - 0s 4ms/step - loss: 0.0686 - accuracy: 0.9798 - val_loss: 0.0515 - val_accuracy: 0.9799\n",
      "Epoch 36/100\n",
      "75/75 [==============================] - 0s 4ms/step - loss: 0.0662 - accuracy: 0.9782 - val_loss: 0.0542 - val_accuracy: 0.9799\n",
      "Epoch 37/100\n",
      "75/75 [==============================] - 0s 4ms/step - loss: 0.0593 - accuracy: 0.9849 - val_loss: 0.0519 - val_accuracy: 0.9782\n",
      "Epoch 38/100\n",
      "75/75 [==============================] - 0s 4ms/step - loss: 0.0573 - accuracy: 0.9815 - val_loss: 0.0434 - val_accuracy: 0.9866\n",
      "Epoch 39/100\n",
      "75/75 [==============================] - 0s 4ms/step - loss: 0.0645 - accuracy: 0.9794 - val_loss: 0.0468 - val_accuracy: 0.9849\n",
      "Epoch 40/100\n",
      "75/75 [==============================] - 0s 4ms/step - loss: 0.0524 - accuracy: 0.9840 - val_loss: 0.0464 - val_accuracy: 0.9832\n",
      "Epoch 41/100\n",
      "75/75 [==============================] - 0s 5ms/step - loss: 0.0493 - accuracy: 0.9866 - val_loss: 0.0587 - val_accuracy: 0.9832\n",
      "Epoch 42/100\n",
      "75/75 [==============================] - 0s 4ms/step - loss: 0.0590 - accuracy: 0.9832 - val_loss: 0.0412 - val_accuracy: 0.9849\n",
      "Epoch 43/100\n",
      "75/75 [==============================] - 0s 4ms/step - loss: 0.0556 - accuracy: 0.9803 - val_loss: 0.0387 - val_accuracy: 0.9866\n",
      "Epoch 44/100\n",
      "75/75 [==============================] - 0s 4ms/step - loss: 0.0531 - accuracy: 0.9857 - val_loss: 0.0450 - val_accuracy: 0.9815\n",
      "Epoch 45/100\n",
      "75/75 [==============================] - 0s 4ms/step - loss: 0.0493 - accuracy: 0.9832 - val_loss: 0.0351 - val_accuracy: 0.9883\n",
      "Epoch 46/100\n",
      "75/75 [==============================] - 0s 4ms/step - loss: 0.0448 - accuracy: 0.9849 - val_loss: 0.0444 - val_accuracy: 0.9815\n",
      "Epoch 47/100\n",
      "75/75 [==============================] - 0s 5ms/step - loss: 0.0534 - accuracy: 0.9819 - val_loss: 0.0383 - val_accuracy: 0.9899\n",
      "Epoch 48/100\n",
      "75/75 [==============================] - 0s 4ms/step - loss: 0.0348 - accuracy: 0.9887 - val_loss: 0.0424 - val_accuracy: 0.9832\n",
      "Epoch 49/100\n",
      "75/75 [==============================] - 0s 4ms/step - loss: 0.0445 - accuracy: 0.9874 - val_loss: 0.0458 - val_accuracy: 0.9832\n",
      "Epoch 50/100\n",
      "75/75 [==============================] - 0s 4ms/step - loss: 0.0448 - accuracy: 0.9878 - val_loss: 0.0349 - val_accuracy: 0.9883\n",
      "Epoch 51/100\n",
      "75/75 [==============================] - 0s 4ms/step - loss: 0.0486 - accuracy: 0.9870 - val_loss: 0.0377 - val_accuracy: 0.9849\n",
      "Epoch 52/100\n",
      "75/75 [==============================] - 0s 4ms/step - loss: 0.0389 - accuracy: 0.9874 - val_loss: 0.0360 - val_accuracy: 0.9849\n",
      "Epoch 53/100\n",
      "75/75 [==============================] - 0s 4ms/step - loss: 0.0366 - accuracy: 0.9878 - val_loss: 0.0365 - val_accuracy: 0.9883\n",
      "Epoch 54/100\n",
      "75/75 [==============================] - 0s 4ms/step - loss: 0.0494 - accuracy: 0.9840 - val_loss: 0.0411 - val_accuracy: 0.9815\n",
      "Epoch 55/100\n",
      "75/75 [==============================] - 0s 4ms/step - loss: 0.0359 - accuracy: 0.9891 - val_loss: 0.0313 - val_accuracy: 0.9883\n",
      "Epoch 56/100\n",
      "75/75 [==============================] - 0s 4ms/step - loss: 0.0353 - accuracy: 0.9878 - val_loss: 0.0372 - val_accuracy: 0.9832\n",
      "Epoch 57/100\n",
      "75/75 [==============================] - 0s 4ms/step - loss: 0.0395 - accuracy: 0.9861 - val_loss: 0.0508 - val_accuracy: 0.9815\n",
      "Epoch 58/100\n",
      "75/75 [==============================] - 0s 4ms/step - loss: 0.0448 - accuracy: 0.9874 - val_loss: 0.0334 - val_accuracy: 0.9849\n"
     ]
    },
    {
     "name": "stdout",
     "output_type": "stream",
     "text": [
      "Epoch 59/100\n",
      "75/75 [==============================] - 0s 5ms/step - loss: 0.0359 - accuracy: 0.9878 - val_loss: 0.0367 - val_accuracy: 0.9849\n",
      "Epoch 60/100\n",
      "75/75 [==============================] - 0s 4ms/step - loss: 0.0289 - accuracy: 0.9882 - val_loss: 0.0352 - val_accuracy: 0.9899\n",
      "Epoch 61/100\n",
      "75/75 [==============================] - 0s 5ms/step - loss: 0.0341 - accuracy: 0.9899 - val_loss: 0.0415 - val_accuracy: 0.9866\n",
      "Epoch 62/100\n",
      "75/75 [==============================] - 0s 5ms/step - loss: 0.0311 - accuracy: 0.9903 - val_loss: 0.0378 - val_accuracy: 0.9866\n",
      "Epoch 63/100\n",
      "75/75 [==============================] - 0s 5ms/step - loss: 0.0280 - accuracy: 0.9908 - val_loss: 0.0315 - val_accuracy: 0.9899\n",
      "Epoch 64/100\n",
      "75/75 [==============================] - 0s 4ms/step - loss: 0.0255 - accuracy: 0.9908 - val_loss: 0.0468 - val_accuracy: 0.9832\n",
      "Epoch 65/100\n",
      "75/75 [==============================] - 0s 4ms/step - loss: 0.0251 - accuracy: 0.9916 - val_loss: 0.0281 - val_accuracy: 0.9916\n",
      "Epoch 66/100\n",
      "75/75 [==============================] - 0s 4ms/step - loss: 0.0253 - accuracy: 0.9903 - val_loss: 0.0270 - val_accuracy: 0.9933\n",
      "Epoch 67/100\n",
      "75/75 [==============================] - 0s 4ms/step - loss: 0.0229 - accuracy: 0.9929 - val_loss: 0.0338 - val_accuracy: 0.9883\n",
      "Epoch 68/100\n",
      "75/75 [==============================] - 0s 4ms/step - loss: 0.0189 - accuracy: 0.9937 - val_loss: 0.0342 - val_accuracy: 0.9899\n",
      "Epoch 69/100\n",
      "75/75 [==============================] - 0s 4ms/step - loss: 0.0276 - accuracy: 0.9899 - val_loss: 0.0482 - val_accuracy: 0.9849\n",
      "Epoch 70/100\n",
      "75/75 [==============================] - 0s 4ms/step - loss: 0.0259 - accuracy: 0.9899 - val_loss: 0.0346 - val_accuracy: 0.9899\n",
      "Epoch 71/100\n",
      "75/75 [==============================] - 0s 4ms/step - loss: 0.0258 - accuracy: 0.9908 - val_loss: 0.0355 - val_accuracy: 0.9916\n",
      "Epoch 72/100\n",
      "75/75 [==============================] - 0s 4ms/step - loss: 0.0420 - accuracy: 0.9895 - val_loss: 0.0297 - val_accuracy: 0.9916\n",
      "Epoch 73/100\n",
      "75/75 [==============================] - 0s 4ms/step - loss: 0.0298 - accuracy: 0.9899 - val_loss: 0.0362 - val_accuracy: 0.9899\n",
      "Epoch 74/100\n",
      "75/75 [==============================] - 0s 4ms/step - loss: 0.0248 - accuracy: 0.9920 - val_loss: 0.0285 - val_accuracy: 0.9899\n",
      "Epoch 75/100\n",
      "75/75 [==============================] - 0s 4ms/step - loss: 0.0299 - accuracy: 0.9920 - val_loss: 0.0287 - val_accuracy: 0.9899\n",
      "Epoch 76/100\n",
      "75/75 [==============================] - 0s 4ms/step - loss: 0.0216 - accuracy: 0.9929 - val_loss: 0.0414 - val_accuracy: 0.9849\n",
      "Epoch 77/100\n",
      "75/75 [==============================] - 0s 4ms/step - loss: 0.0289 - accuracy: 0.9920 - val_loss: 0.0305 - val_accuracy: 0.9916\n",
      "Epoch 78/100\n",
      "75/75 [==============================] - 0s 4ms/step - loss: 0.0260 - accuracy: 0.9933 - val_loss: 0.0278 - val_accuracy: 0.9899\n",
      "Epoch 79/100\n",
      "75/75 [==============================] - 0s 4ms/step - loss: 0.0308 - accuracy: 0.9916 - val_loss: 0.0349 - val_accuracy: 0.9883\n",
      "Epoch 80/100\n",
      "75/75 [==============================] - 0s 4ms/step - loss: 0.0223 - accuracy: 0.9933 - val_loss: 0.0402 - val_accuracy: 0.9899\n",
      "Epoch 81/100\n",
      "75/75 [==============================] - 0s 4ms/step - loss: 0.0190 - accuracy: 0.9929 - val_loss: 0.0385 - val_accuracy: 0.9899\n",
      "Epoch 82/100\n",
      "75/75 [==============================] - 0s 5ms/step - loss: 0.0175 - accuracy: 0.9929 - val_loss: 0.0350 - val_accuracy: 0.9933\n",
      "Epoch 83/100\n",
      "75/75 [==============================] - 0s 4ms/step - loss: 0.0266 - accuracy: 0.9912 - val_loss: 0.0486 - val_accuracy: 0.9883\n",
      "Epoch 84/100\n",
      "75/75 [==============================] - 0s 4ms/step - loss: 0.0326 - accuracy: 0.9908 - val_loss: 0.0264 - val_accuracy: 0.9916\n",
      "Epoch 85/100\n",
      "75/75 [==============================] - 0s 4ms/step - loss: 0.0269 - accuracy: 0.9920 - val_loss: 0.0256 - val_accuracy: 0.9950\n",
      "Epoch 86/100\n",
      "75/75 [==============================] - 0s 4ms/step - loss: 0.0168 - accuracy: 0.9929 - val_loss: 0.0261 - val_accuracy: 0.9933\n",
      "Epoch 87/100\n",
      "75/75 [==============================] - 0s 4ms/step - loss: 0.0201 - accuracy: 0.9945 - val_loss: 0.0299 - val_accuracy: 0.9933\n",
      "Epoch 88/100\n",
      "75/75 [==============================] - 0s 4ms/step - loss: 0.0128 - accuracy: 0.9958 - val_loss: 0.0334 - val_accuracy: 0.9916\n",
      "Epoch 89/100\n",
      "75/75 [==============================] - 0s 4ms/step - loss: 0.0201 - accuracy: 0.9929 - val_loss: 0.0264 - val_accuracy: 0.9933\n",
      "Epoch 90/100\n",
      "75/75 [==============================] - 0s 4ms/step - loss: 0.0129 - accuracy: 0.9958 - val_loss: 0.0278 - val_accuracy: 0.9950\n",
      "Epoch 91/100\n",
      "75/75 [==============================] - 0s 4ms/step - loss: 0.0191 - accuracy: 0.9941 - val_loss: 0.0267 - val_accuracy: 0.9933\n",
      "Epoch 92/100\n",
      "75/75 [==============================] - 0s 4ms/step - loss: 0.0193 - accuracy: 0.9941 - val_loss: 0.0356 - val_accuracy: 0.9916\n",
      "Epoch 93/100\n",
      "75/75 [==============================] - 0s 4ms/step - loss: 0.0217 - accuracy: 0.9941 - val_loss: 0.0311 - val_accuracy: 0.9916\n",
      "Epoch 94/100\n",
      "75/75 [==============================] - 0s 4ms/step - loss: 0.0250 - accuracy: 0.9924 - val_loss: 0.0294 - val_accuracy: 0.9933\n",
      "Epoch 95/100\n",
      "75/75 [==============================] - 0s 4ms/step - loss: 0.0257 - accuracy: 0.9903 - val_loss: 0.0301 - val_accuracy: 0.9916\n",
      "Epoch 96/100\n",
      "75/75 [==============================] - 0s 4ms/step - loss: 0.0198 - accuracy: 0.9916 - val_loss: 0.0373 - val_accuracy: 0.9933\n",
      "Epoch 97/100\n",
      "75/75 [==============================] - 0s 4ms/step - loss: 0.0174 - accuracy: 0.9937 - val_loss: 0.0275 - val_accuracy: 0.9899\n",
      "Epoch 98/100\n",
      "75/75 [==============================] - 0s 4ms/step - loss: 0.0192 - accuracy: 0.9929 - val_loss: 0.0550 - val_accuracy: 0.9866\n",
      "Epoch 99/100\n",
      "75/75 [==============================] - 0s 4ms/step - loss: 0.0224 - accuracy: 0.9933 - val_loss: 0.0293 - val_accuracy: 0.9950\n",
      "Epoch 100/100\n",
      "75/75 [==============================] - 0s 4ms/step - loss: 0.0126 - accuracy: 0.9962 - val_loss: 0.0733 - val_accuracy: 0.9849\n",
      "Training completed in time:  0:00:34.029766\n"
     ]
    }
   ],
   "source": [
    "reload(mc)\n",
    "model = mc.compile_and_train_model(\n",
    "    model,\n",
    "    X_train,\n",
    "    y_train,\n",
    "    X_test,\n",
    "    y_test,\n",
    "    num_epochs=100,\n",
    "    num_batch_size=32,\n",
    "    save_model=False,\n",
    ")"
   ]
  },
  {
   "cell_type": "markdown",
   "id": "209f52f5",
   "metadata": {},
   "source": [
    "## Get the model Accuracy"
   ]
  },
  {
   "cell_type": "code",
   "execution_count": 14,
   "id": "566849b9",
   "metadata": {},
   "outputs": [
    {
     "data": {
      "text/plain": [
       "0.9848993420600891"
      ]
     },
     "execution_count": 14,
     "metadata": {},
     "output_type": "execute_result"
    }
   ],
   "source": [
    "reload(mc)\n",
    "mc.get_model_accuracy(model, X_test, y_test)"
   ]
  },
  {
   "cell_type": "markdown",
   "id": "15f9d9a9",
   "metadata": {},
   "source": [
    "# Who is talking in a Conversation"
   ]
  },
  {
   "cell_type": "markdown",
   "id": "6a17375d",
   "metadata": {},
   "source": [
    "## Create a DF with predictions of who is talking during a conversation"
   ]
  },
  {
   "cell_type": "code",
   "execution_count": 15,
   "id": "58ba93ca",
   "metadata": {
    "scrolled": true
   },
   "outputs": [
    {
     "name": "stdout",
     "output_type": "stream",
     "text": [
      "4602/4623 Done\n",
      "4604/4623 Done\n",
      "4606/4623 Done\n",
      "4608/4623 Done\n",
      "4610/4623 Done\n",
      "4612/4623 Done\n",
      "4614/4623 Done\n",
      "4616/4623 Done\n",
      "4618/4623 Done\n",
      "4620/4623 Done\n",
      "4622/4623 Done\n",
      "73/73 [==============================] - 0s 4ms/step\n"
     ]
    }
   ],
   "source": [
    "reload(mc)\n",
    "convo_path = os.path.join('data', 'conversation_podcasts', 'Bill_and_Andrew.wav')\n",
    "temp_folder = os.path.join('data', 'BillAndrew')\n",
    "sec_split = 2\n",
    "#++++++++++++++++++++++++++++++++++++\n",
    "df = prediction_per_n_second(convo_path, temp_folder, sec_split)\n",
    "df['from_sec'] = df['from_sec'].astype(int)"
   ]
  },
  {
   "cell_type": "code",
   "execution_count": 16,
   "id": "81c23ec9",
   "metadata": {
    "scrolled": false
   },
   "outputs": [
    {
     "data": {
      "text/html": [
       "<div>\n",
       "<style scoped>\n",
       "    .dataframe tbody tr th:only-of-type {\n",
       "        vertical-align: middle;\n",
       "    }\n",
       "\n",
       "    .dataframe tbody tr th {\n",
       "        vertical-align: top;\n",
       "    }\n",
       "\n",
       "    .dataframe thead th {\n",
       "        text-align: right;\n",
       "    }\n",
       "</style>\n",
       "<table border=\"1\" class=\"dataframe\">\n",
       "  <thead>\n",
       "    <tr style=\"text-align: right;\">\n",
       "      <th></th>\n",
       "      <th>from_sec</th>\n",
       "      <th>class</th>\n",
       "    </tr>\n",
       "  </thead>\n",
       "  <tbody>\n",
       "    <tr>\n",
       "      <th>0</th>\n",
       "      <td>0</td>\n",
       "      <td>Andrew Santino</td>\n",
       "    </tr>\n",
       "    <tr>\n",
       "      <th>1</th>\n",
       "      <td>2</td>\n",
       "      <td>Andrew Santino</td>\n",
       "    </tr>\n",
       "    <tr>\n",
       "      <th>2</th>\n",
       "      <td>4</td>\n",
       "      <td>Andrew Santino</td>\n",
       "    </tr>\n",
       "    <tr>\n",
       "      <th>3</th>\n",
       "      <td>6</td>\n",
       "      <td>Andrew Santino</td>\n",
       "    </tr>\n",
       "    <tr>\n",
       "      <th>4</th>\n",
       "      <td>8</td>\n",
       "      <td>Andrew Santino</td>\n",
       "    </tr>\n",
       "    <tr>\n",
       "      <th>...</th>\n",
       "      <td>...</td>\n",
       "      <td>...</td>\n",
       "    </tr>\n",
       "    <tr>\n",
       "      <th>2307</th>\n",
       "      <td>4614</td>\n",
       "      <td>Andrew Santino</td>\n",
       "    </tr>\n",
       "    <tr>\n",
       "      <th>2308</th>\n",
       "      <td>4616</td>\n",
       "      <td>Andrew Santino</td>\n",
       "    </tr>\n",
       "    <tr>\n",
       "      <th>2309</th>\n",
       "      <td>4618</td>\n",
       "      <td>Andrew Santino</td>\n",
       "    </tr>\n",
       "    <tr>\n",
       "      <th>2310</th>\n",
       "      <td>4620</td>\n",
       "      <td>Andrew Santino</td>\n",
       "    </tr>\n",
       "    <tr>\n",
       "      <th>2311</th>\n",
       "      <td>4622</td>\n",
       "      <td>Bill Burr</td>\n",
       "    </tr>\n",
       "  </tbody>\n",
       "</table>\n",
       "<p>2312 rows × 2 columns</p>\n",
       "</div>"
      ],
      "text/plain": [
       "     from_sec           class\n",
       "0           0  Andrew Santino\n",
       "1           2  Andrew Santino\n",
       "2           4  Andrew Santino\n",
       "3           6  Andrew Santino\n",
       "4           8  Andrew Santino\n",
       "...       ...             ...\n",
       "2307     4614  Andrew Santino\n",
       "2308     4616  Andrew Santino\n",
       "2309     4618  Andrew Santino\n",
       "2310     4620  Andrew Santino\n",
       "2311     4622       Bill Burr\n",
       "\n",
       "[2312 rows x 2 columns]"
      ]
     },
     "execution_count": 16,
     "metadata": {},
     "output_type": "execute_result"
    }
   ],
   "source": [
    "df"
   ]
  },
  {
   "cell_type": "markdown",
   "id": "e983b40c",
   "metadata": {},
   "source": [
    "### Save the results to a csv if we want to"
   ]
  },
  {
   "cell_type": "code",
   "execution_count": 15,
   "id": "0ecbc399",
   "metadata": {},
   "outputs": [],
   "source": [
    "# df.to_csv(os.path.join('results', 'bill_andrew_podcast_predict.csv'), index=False)"
   ]
  },
  {
   "cell_type": "markdown",
   "id": "a22f0fdc",
   "metadata": {},
   "source": [
    "## View Specific time if we want"
   ]
  },
  {
   "cell_type": "code",
   "execution_count": 21,
   "id": "c0aa16b3",
   "metadata": {},
   "outputs": [
    {
     "data": {
      "text/html": [
       "<div>\n",
       "<style scoped>\n",
       "    .dataframe tbody tr th:only-of-type {\n",
       "        vertical-align: middle;\n",
       "    }\n",
       "\n",
       "    .dataframe tbody tr th {\n",
       "        vertical-align: top;\n",
       "    }\n",
       "\n",
       "    .dataframe thead th {\n",
       "        text-align: right;\n",
       "    }\n",
       "</style>\n",
       "<table border=\"1\" class=\"dataframe\">\n",
       "  <thead>\n",
       "    <tr style=\"text-align: right;\">\n",
       "      <th></th>\n",
       "      <th>from_sec</th>\n",
       "      <th>class</th>\n",
       "    </tr>\n",
       "  </thead>\n",
       "  <tbody>\n",
       "    <tr>\n",
       "      <th>398</th>\n",
       "      <td>796</td>\n",
       "      <td>Bill Burr</td>\n",
       "    </tr>\n",
       "    <tr>\n",
       "      <th>399</th>\n",
       "      <td>798</td>\n",
       "      <td>Bill Burr</td>\n",
       "    </tr>\n",
       "    <tr>\n",
       "      <th>400</th>\n",
       "      <td>800</td>\n",
       "      <td>Bill Burr</td>\n",
       "    </tr>\n",
       "    <tr>\n",
       "      <th>401</th>\n",
       "      <td>802</td>\n",
       "      <td>Bill Burr</td>\n",
       "    </tr>\n",
       "    <tr>\n",
       "      <th>402</th>\n",
       "      <td>804</td>\n",
       "      <td>Andrew Santino</td>\n",
       "    </tr>\n",
       "    <tr>\n",
       "      <th>403</th>\n",
       "      <td>806</td>\n",
       "      <td>Andrew Santino</td>\n",
       "    </tr>\n",
       "    <tr>\n",
       "      <th>404</th>\n",
       "      <td>808</td>\n",
       "      <td>Bill Burr</td>\n",
       "    </tr>\n",
       "  </tbody>\n",
       "</table>\n",
       "</div>"
      ],
      "text/plain": [
       "     from_sec           class\n",
       "398       796       Bill Burr\n",
       "399       798       Bill Burr\n",
       "400       800       Bill Burr\n",
       "401       802       Bill Burr\n",
       "402       804  Andrew Santino\n",
       "403       806  Andrew Santino\n",
       "404       808       Bill Burr"
      ]
     },
     "execution_count": 21,
     "metadata": {},
     "output_type": "execute_result"
    }
   ],
   "source": [
    "df[(df['from_sec']>=795) & (df['from_sec']<=808)]"
   ]
  },
  {
   "cell_type": "markdown",
   "id": "3d90d39c",
   "metadata": {},
   "source": [
    "## Compare how often 1 person talks VS the other"
   ]
  },
  {
   "cell_type": "code",
   "execution_count": 22,
   "id": "c8908f6a",
   "metadata": {},
   "outputs": [
    {
     "data": {
      "text/plain": [
       "Andrew Santino    0.554498\n",
       "Bill Burr         0.445502\n",
       "Name: class, dtype: float64"
      ]
     },
     "execution_count": 22,
     "metadata": {},
     "output_type": "execute_result"
    }
   ],
   "source": [
    "# View the percentage that each person spoke\n",
    "df['class'].value_counts(normalize=True)"
   ]
  },
  {
   "cell_type": "code",
   "execution_count": 23,
   "id": "b33bf881",
   "metadata": {},
   "outputs": [
    {
     "data": {
      "text/plain": [
       "<Axes: >"
      ]
     },
     "execution_count": 23,
     "metadata": {},
     "output_type": "execute_result"
    },
    {
     "data": {
      "image/png": "[encoded data removed]",
      "text/plain": [
       "<Figure size 640x480 with 1 Axes>"
      ]
     },
     "metadata": {},
     "output_type": "display_data"
    }
   ],
   "source": [
    "# View it as a graph\n",
    "df['class'].value_counts().plot(kind='bar')"
   ]
  }
 ],
 "metadata": {
  "kernelspec": {
   "display_name": "Python 3 (ipykernel)",
   "language": "python",
   "name": "python3"
  },
  "language_info": {
   "codemirror_mode": {
    "name": "ipython",
    "version": 3
   },
   "file_extension": ".py",
   "mimetype": "text/x-python",
   "name": "python",
   "nbconvert_exporter": "python",
   "pygments_lexer": "ipython3",
   "version": "3.9.6"
  }
 },
 "nbformat": 4,
 "nbformat_minor": 5
}
